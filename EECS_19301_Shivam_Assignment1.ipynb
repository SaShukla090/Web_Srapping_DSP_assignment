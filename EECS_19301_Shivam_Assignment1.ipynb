{
 "cells": [
  {
   "cell_type": "markdown",
   "id": "533a1aa6",
   "metadata": {},
   "source": [
    "# Assignment 1: Web Scrapping\n",
    "# Department: Electrical Engg. and Computer Science\n",
    "# Name: Shukla Shivam Ashokbhai                                                  \n",
    "# Roll No: 19201"
   ]
  },
  {
   "cell_type": "markdown",
   "id": "595fb59c",
   "metadata": {},
   "source": [
    "# Scraping Top Repositories for Topics on GitHub\n",
    "\n",
    "\n",
    "Here are the steps we'll follow:\n",
    "\n",
    "- Aim to scrape https://github.com/topics\n",
    "- We'll get a list of topics. For each topic, We'll get topic title, topic page URL and topic description\n",
    "- For each topic, we'll get the top 20 repositories in the topic from the topic page\n",
    "- For each repository, we'll grab the repo name, username, stars and repo URL\n",
    "- For each topic we'll create a CSV file in the following format:\n",
    "\n",
    "```\n",
    "Repo Name,Username,Stars,Repo URL\n",
    "three.js,mrdoob,69700,https://github.com/mrdoob/three.js\n",
    "libgdx,libgdx,18300,https://github.com/libgdx/libgdx\n",
    "```"
   ]
  },
  {
   "cell_type": "code",
   "execution_count": null,
   "id": "e4682bc8",
   "metadata": {},
   "outputs": [],
   "source": []
  },
  {
   "cell_type": "markdown",
   "id": "4876495e",
   "metadata": {},
   "source": [
    "### Use the requests library to download web pages"
   ]
  },
  {
   "cell_type": "code",
   "execution_count": null,
   "id": "125a2138",
   "metadata": {},
   "outputs": [],
   "source": []
  },
  {
   "cell_type": "code",
   "execution_count": 1,
   "id": "e656714f",
   "metadata": {},
   "outputs": [],
   "source": [
    "import requests"
   ]
  },
  {
   "cell_type": "code",
   "execution_count": 2,
   "id": "50e731ed",
   "metadata": {},
   "outputs": [],
   "source": [
    "topics_url = 'https://github.com/topics'"
   ]
  },
  {
   "cell_type": "code",
   "execution_count": 3,
   "id": "4d807733",
   "metadata": {},
   "outputs": [
    {
     "data": {
      "text/plain": [
       "200"
      ]
     },
     "execution_count": 3,
     "metadata": {},
     "output_type": "execute_result"
    }
   ],
   "source": [
    "response = requests.get(topics_url)\n",
    "response.status_code"
   ]
  },
  {
   "cell_type": "code",
   "execution_count": 4,
   "id": "339cbb56",
   "metadata": {},
   "outputs": [
    {
     "data": {
      "text/plain": [
       "200"
      ]
     },
     "execution_count": 4,
     "metadata": {},
     "output_type": "execute_result"
    }
   ],
   "source": [
    "response.status_code"
   ]
  },
  {
   "cell_type": "code",
   "execution_count": 5,
   "id": "a2e75869",
   "metadata": {},
   "outputs": [],
   "source": [
    "page_contents = response.text"
   ]
  },
  {
   "cell_type": "code",
   "execution_count": 6,
   "id": "51542c53",
   "metadata": {},
   "outputs": [
    {
     "data": {
      "text/plain": [
       "'\\n\\n<!DOCTYPE html>\\n<html lang=\"en\" data-color-mode=\"auto\" data-light-theme=\"light\" data-dark-theme=\"dark\" data-a11y-animated-images=\"system\">\\n  <head>\\n    <meta charset=\"utf-8\">\\n  <link rel=\"dns-prefetch\" href=\"https://github.githubassets.com\">\\n  <link rel=\"dns-prefetch\" href=\"https://avatars.githubusercontent.com\">\\n  <link rel=\"dns-prefetch\" href=\"https://github-cloud.s3.amazonaws.com\">\\n  <link rel=\"dns-prefetch\" href=\"https://user-images.githubusercontent.com/\">\\n  <link rel=\"preconnect\" href=\"https://github.githubassets.com\" crossorigin>\\n  <link rel=\"preconnect\" href=\"https://avatars.githubusercontent.com\">\\n\\n\\n\\n  <link crossorigin=\"anonymous\" media=\"all\" rel=\"stylesheet\" href=\"https://github.githubassets.com/assets/light-5178aee0ee76.css\" /><link crossorigin=\"anonymous\" media=\"all\" rel=\"stylesheet\" href=\"https://github.githubassets.com/assets/dark-217d4f9c8e70.css\" /><link data-color-theme=\"dark_dimmed\" crossorigin=\"anonymous\" media=\"all\" rel=\"stylesheet\" data-href=\"https://github.gith'"
      ]
     },
     "execution_count": 6,
     "metadata": {},
     "output_type": "execute_result"
    }
   ],
   "source": [
    "page_contents[:1000]"
   ]
  },
  {
   "cell_type": "code",
   "execution_count": null,
   "id": "f0b1f2a7",
   "metadata": {},
   "outputs": [],
   "source": []
  },
  {
   "cell_type": "code",
   "execution_count": null,
   "id": "71f5c001",
   "metadata": {},
   "outputs": [],
   "source": []
  },
  {
   "cell_type": "markdown",
   "id": "65fafd67",
   "metadata": {},
   "source": [
    "## Using Beautiful Soup to parse and extract information"
   ]
  },
  {
   "cell_type": "code",
   "execution_count": 8,
   "id": "f3a703a2",
   "metadata": {},
   "outputs": [],
   "source": [
    "from bs4 import BeautifulSoup"
   ]
  },
  {
   "cell_type": "code",
   "execution_count": 9,
   "id": "fc866635",
   "metadata": {},
   "outputs": [],
   "source": [
    "doc = BeautifulSoup(page_contents, 'html.parser')"
   ]
  },
  {
   "cell_type": "code",
   "execution_count": 10,
   "id": "4dd4044b",
   "metadata": {},
   "outputs": [],
   "source": [
    "selection_class = 'f3 lh-condensed mb-0 mt-1 Link--primary'\n",
    "\n",
    "topic_title_tags = doc.find_all('p', {'class': selection_class})"
   ]
  },
  {
   "cell_type": "code",
   "execution_count": 11,
   "id": "a211f7d7",
   "metadata": {},
   "outputs": [
    {
     "data": {
      "text/plain": [
       "30"
      ]
     },
     "execution_count": 11,
     "metadata": {},
     "output_type": "execute_result"
    }
   ],
   "source": [
    "len(topic_title_tags)"
   ]
  },
  {
   "cell_type": "code",
   "execution_count": 12,
   "id": "c2609f2a",
   "metadata": {},
   "outputs": [
    {
     "data": {
      "text/plain": [
       "[<p class=\"f3 lh-condensed mb-0 mt-1 Link--primary\">3D</p>,\n",
       " <p class=\"f3 lh-condensed mb-0 mt-1 Link--primary\">Ajax</p>,\n",
       " <p class=\"f3 lh-condensed mb-0 mt-1 Link--primary\">Algorithm</p>,\n",
       " <p class=\"f3 lh-condensed mb-0 mt-1 Link--primary\">Amp</p>,\n",
       " <p class=\"f3 lh-condensed mb-0 mt-1 Link--primary\">Android</p>]"
      ]
     },
     "execution_count": 12,
     "metadata": {},
     "output_type": "execute_result"
    }
   ],
   "source": [
    "topic_title_tags[:5]"
   ]
  },
  {
   "cell_type": "code",
   "execution_count": 13,
   "id": "c6e1aa32",
   "metadata": {},
   "outputs": [],
   "source": [
    "desc_selector = 'f5 color-fg-muted mb-0 mt-1'\n",
    "topic_desc_tags = doc.find_all('p', {'class': desc_selector})"
   ]
  },
  {
   "cell_type": "code",
   "execution_count": 14,
   "id": "0aebb240",
   "metadata": {},
   "outputs": [
    {
     "data": {
      "text/plain": [
       "[<p class=\"f5 color-fg-muted mb-0 mt-1\">\n",
       "           3D modeling is the process of virtually developing the surface and structure of a 3D object.\n",
       "         </p>,\n",
       " <p class=\"f5 color-fg-muted mb-0 mt-1\">\n",
       "           Ajax is a technique for creating interactive web applications.\n",
       "         </p>,\n",
       " <p class=\"f5 color-fg-muted mb-0 mt-1\">\n",
       "           Algorithms are self-contained sequences that carry out a variety of tasks.\n",
       "         </p>,\n",
       " <p class=\"f5 color-fg-muted mb-0 mt-1\">\n",
       "           Amp is a non-blocking concurrency library for PHP.\n",
       "         </p>,\n",
       " <p class=\"f5 color-fg-muted mb-0 mt-1\">\n",
       "           Android is an operating system built by Google designed for mobile devices.\n",
       "         </p>]"
      ]
     },
     "execution_count": 14,
     "metadata": {},
     "output_type": "execute_result"
    }
   ],
   "source": [
    "topic_desc_tags[:5]"
   ]
  },
  {
   "cell_type": "code",
   "execution_count": 15,
   "id": "82d32c11",
   "metadata": {},
   "outputs": [],
   "source": [
    "topic_title_tag0 = topic_title_tags[0]"
   ]
  },
  {
   "cell_type": "code",
   "execution_count": 16,
   "id": "c18712ff",
   "metadata": {},
   "outputs": [],
   "source": [
    "div_tag = topic_title_tag0.parent"
   ]
  },
  {
   "cell_type": "code",
   "execution_count": 17,
   "id": "fc0b61f1",
   "metadata": {},
   "outputs": [],
   "source": [
    "topic_link_tags = doc.find_all('a', {'no-underline flex-1 d-flex flex-column'})"
   ]
  },
  {
   "cell_type": "code",
   "execution_count": 18,
   "id": "f88ca6b2",
   "metadata": {},
   "outputs": [
    {
     "data": {
      "text/plain": [
       "30"
      ]
     },
     "execution_count": 18,
     "metadata": {},
     "output_type": "execute_result"
    }
   ],
   "source": [
    "len(topic_link_tags)"
   ]
  },
  {
   "cell_type": "code",
   "execution_count": 19,
   "id": "f47360bf",
   "metadata": {},
   "outputs": [
    {
     "data": {
      "text/plain": [
       "<a class=\"no-underline flex-1 d-flex flex-column\" href=\"/topics/3d\">\n",
       "<p class=\"f3 lh-condensed mb-0 mt-1 Link--primary\">3D</p>\n",
       "<p class=\"f5 color-fg-muted mb-0 mt-1\">\n",
       "          3D modeling is the process of virtually developing the surface and structure of a 3D object.\n",
       "        </p>\n",
       "</a>"
      ]
     },
     "execution_count": 19,
     "metadata": {},
     "output_type": "execute_result"
    }
   ],
   "source": [
    "topic_link_tags[0]"
   ]
  },
  {
   "cell_type": "code",
   "execution_count": 20,
   "id": "6ffb6856",
   "metadata": {},
   "outputs": [
    {
     "name": "stdout",
     "output_type": "stream",
     "text": [
      "https://github.com/topics/3d\n"
     ]
    }
   ],
   "source": [
    "topic0_url = \"https://github.com\" + topic_link_tags[0]['href']\n",
    "print(topic0_url)"
   ]
  },
  {
   "cell_type": "code",
   "execution_count": 21,
   "id": "52e954fc",
   "metadata": {},
   "outputs": [
    {
     "name": "stdout",
     "output_type": "stream",
     "text": [
      "['3D', 'Ajax', 'Algorithm', 'Amp', 'Android', 'Angular', 'Ansible', 'API', 'Arduino', 'ASP.NET', 'Atom', 'Awesome Lists', 'Amazon Web Services', 'Azure', 'Babel', 'Bash', 'Bitcoin', 'Bootstrap', 'Bot', 'C', 'Chrome', 'Chrome extension', 'Command line interface', 'Clojure', 'Code quality', 'Code review', 'Compiler', 'Continuous integration', 'COVID-19', 'C++']\n"
     ]
    }
   ],
   "source": [
    "topic_titles = []\n",
    "\n",
    "for tag in topic_title_tags:\n",
    "    topic_titles.append(tag.text)\n",
    "    \n",
    "print(topic_titles)"
   ]
  },
  {
   "cell_type": "code",
   "execution_count": 22,
   "id": "c6fdcb8f",
   "metadata": {},
   "outputs": [
    {
     "data": {
      "text/plain": [
       "['3D modeling is the process of virtually developing the surface and structure of a 3D object.',\n",
       " 'Ajax is a technique for creating interactive web applications.',\n",
       " 'Algorithms are self-contained sequences that carry out a variety of tasks.',\n",
       " 'Amp is a non-blocking concurrency library for PHP.',\n",
       " 'Android is an operating system built by Google designed for mobile devices.']"
      ]
     },
     "execution_count": 22,
     "metadata": {},
     "output_type": "execute_result"
    }
   ],
   "source": [
    "topic_descs = []\n",
    "\n",
    "for tag in topic_desc_tags:\n",
    "    topic_descs.append(tag.text.strip())\n",
    "    \n",
    "topic_descs[:5]"
   ]
  },
  {
   "cell_type": "code",
   "execution_count": 23,
   "id": "d43ca978",
   "metadata": {},
   "outputs": [
    {
     "data": {
      "text/plain": [
       "['https://github.com/topics/3d',\n",
       " 'https://github.com/topics/ajax',\n",
       " 'https://github.com/topics/algorithm',\n",
       " 'https://github.com/topics/amphp',\n",
       " 'https://github.com/topics/android',\n",
       " 'https://github.com/topics/angular',\n",
       " 'https://github.com/topics/ansible',\n",
       " 'https://github.com/topics/api',\n",
       " 'https://github.com/topics/arduino',\n",
       " 'https://github.com/topics/aspnet',\n",
       " 'https://github.com/topics/atom',\n",
       " 'https://github.com/topics/awesome',\n",
       " 'https://github.com/topics/aws',\n",
       " 'https://github.com/topics/azure',\n",
       " 'https://github.com/topics/babel',\n",
       " 'https://github.com/topics/bash',\n",
       " 'https://github.com/topics/bitcoin',\n",
       " 'https://github.com/topics/bootstrap',\n",
       " 'https://github.com/topics/bot',\n",
       " 'https://github.com/topics/c',\n",
       " 'https://github.com/topics/chrome',\n",
       " 'https://github.com/topics/chrome-extension',\n",
       " 'https://github.com/topics/cli',\n",
       " 'https://github.com/topics/clojure',\n",
       " 'https://github.com/topics/code-quality',\n",
       " 'https://github.com/topics/code-review',\n",
       " 'https://github.com/topics/compiler',\n",
       " 'https://github.com/topics/continuous-integration',\n",
       " 'https://github.com/topics/covid-19',\n",
       " 'https://github.com/topics/cpp']"
      ]
     },
     "execution_count": 23,
     "metadata": {},
     "output_type": "execute_result"
    }
   ],
   "source": [
    "topic_urls = []\n",
    "base_url = 'https://github.com'\n",
    "\n",
    "for tag in topic_link_tags:\n",
    "    topic_urls.append(base_url + tag['href'])\n",
    "    \n",
    "topic_urls"
   ]
  },
  {
   "cell_type": "code",
   "execution_count": 24,
   "id": "a59792fc",
   "metadata": {},
   "outputs": [],
   "source": [
    "import pandas as pd"
   ]
  },
  {
   "cell_type": "code",
   "execution_count": 25,
   "id": "73889694",
   "metadata": {},
   "outputs": [],
   "source": [
    "topics_dict = {\n",
    "    'title': topic_titles,\n",
    "    'description': topic_descs,\n",
    "    'url': topic_urls\n",
    "}"
   ]
  },
  {
   "cell_type": "code",
   "execution_count": 26,
   "id": "480a1559",
   "metadata": {},
   "outputs": [],
   "source": [
    "topics_df = pd.DataFrame(topics_dict)"
   ]
  },
  {
   "cell_type": "code",
   "execution_count": 100,
   "id": "ab3eae89",
   "metadata": {},
   "outputs": [
    {
     "data": {
      "text/html": [
       "<div>\n",
       "<style scoped>\n",
       "    .dataframe tbody tr th:only-of-type {\n",
       "        vertical-align: middle;\n",
       "    }\n",
       "\n",
       "    .dataframe tbody tr th {\n",
       "        vertical-align: top;\n",
       "    }\n",
       "\n",
       "    .dataframe thead th {\n",
       "        text-align: right;\n",
       "    }\n",
       "</style>\n",
       "<table border=\"1\" class=\"dataframe\">\n",
       "  <thead>\n",
       "    <tr style=\"text-align: right;\">\n",
       "      <th></th>\n",
       "      <th>title</th>\n",
       "      <th>description</th>\n",
       "      <th>url</th>\n",
       "    </tr>\n",
       "  </thead>\n",
       "  <tbody>\n",
       "    <tr>\n",
       "      <th>0</th>\n",
       "      <td>3D</td>\n",
       "      <td>3D modeling is the process of virtually develo...</td>\n",
       "      <td>https://github.com/topics/3d</td>\n",
       "    </tr>\n",
       "    <tr>\n",
       "      <th>1</th>\n",
       "      <td>Ajax</td>\n",
       "      <td>Ajax is a technique for creating interactive w...</td>\n",
       "      <td>https://github.com/topics/ajax</td>\n",
       "    </tr>\n",
       "    <tr>\n",
       "      <th>2</th>\n",
       "      <td>Algorithm</td>\n",
       "      <td>Algorithms are self-contained sequences that c...</td>\n",
       "      <td>https://github.com/topics/algorithm</td>\n",
       "    </tr>\n",
       "    <tr>\n",
       "      <th>3</th>\n",
       "      <td>Amp</td>\n",
       "      <td>Amp is a non-blocking concurrency library for ...</td>\n",
       "      <td>https://github.com/topics/amphp</td>\n",
       "    </tr>\n",
       "    <tr>\n",
       "      <th>4</th>\n",
       "      <td>Android</td>\n",
       "      <td>Android is an operating system built by Google...</td>\n",
       "      <td>https://github.com/topics/android</td>\n",
       "    </tr>\n",
       "  </tbody>\n",
       "</table>\n",
       "</div>"
      ],
      "text/plain": [
       "       title                                        description  \\\n",
       "0         3D  3D modeling is the process of virtually develo...   \n",
       "1       Ajax  Ajax is a technique for creating interactive w...   \n",
       "2  Algorithm  Algorithms are self-contained sequences that c...   \n",
       "3        Amp  Amp is a non-blocking concurrency library for ...   \n",
       "4    Android  Android is an operating system built by Google...   \n",
       "\n",
       "                                   url  \n",
       "0         https://github.com/topics/3d  \n",
       "1       https://github.com/topics/ajax  \n",
       "2  https://github.com/topics/algorithm  \n",
       "3      https://github.com/topics/amphp  \n",
       "4    https://github.com/topics/android  "
      ]
     },
     "execution_count": 100,
     "metadata": {},
     "output_type": "execute_result"
    }
   ],
   "source": [
    "topics_df[:5]"
   ]
  },
  {
   "cell_type": "code",
   "execution_count": 28,
   "id": "1b17c4c1",
   "metadata": {},
   "outputs": [],
   "source": [
    "topics_df.to_csv('topics.csv', index=None)"
   ]
  },
  {
   "cell_type": "code",
   "execution_count": null,
   "id": "29c6fdef",
   "metadata": {},
   "outputs": [],
   "source": []
  },
  {
   "cell_type": "markdown",
   "id": "e3520af5",
   "metadata": {},
   "source": [
    "## Getting information out of a topic page"
   ]
  },
  {
   "cell_type": "code",
   "execution_count": 29,
   "id": "857d16d9",
   "metadata": {},
   "outputs": [
    {
     "data": {
      "text/plain": [
       "'https://github.com/topics/3d'"
      ]
     },
     "execution_count": 29,
     "metadata": {},
     "output_type": "execute_result"
    }
   ],
   "source": [
    "topic_page_url = topic_urls[0]\n",
    "topic_page_url"
   ]
  },
  {
   "cell_type": "code",
   "execution_count": 30,
   "id": "ecf0da64",
   "metadata": {},
   "outputs": [
    {
     "data": {
      "text/plain": [
       "200"
      ]
     },
     "execution_count": 30,
     "metadata": {},
     "output_type": "execute_result"
    }
   ],
   "source": [
    "response = requests.get(topic_page_url)\n",
    "response.status_code"
   ]
  },
  {
   "cell_type": "code",
   "execution_count": 31,
   "id": "b7bb5d0a",
   "metadata": {},
   "outputs": [
    {
     "data": {
      "text/plain": [
       "451198"
      ]
     },
     "execution_count": 31,
     "metadata": {},
     "output_type": "execute_result"
    }
   ],
   "source": [
    "len(response.text)"
   ]
  },
  {
   "cell_type": "code",
   "execution_count": 69,
   "id": "c11ff273",
   "metadata": {},
   "outputs": [],
   "source": [
    "topic_doc = BeautifulSoup(response.text, 'html.parser')\n",
    "# get_topic_repos(topic_doc)"
   ]
  },
  {
   "cell_type": "code",
   "execution_count": 33,
   "id": "f2b235f6",
   "metadata": {},
   "outputs": [],
   "source": [
    "h3_selection_class = 'f3 color-fg-muted text-normal lh-condensed'\n",
    "repo_tags = topic_doc.find_all('h3', {'class': h3_selection_class} )"
   ]
  },
  {
   "cell_type": "code",
   "execution_count": 34,
   "id": "96780520",
   "metadata": {},
   "outputs": [
    {
     "data": {
      "text/plain": [
       "<h3 class=\"f3 color-fg-muted text-normal lh-condensed\">\n",
       "<a data-hydro-click='{\"event_type\":\"explore.click\",\"payload\":{\"click_context\":\"REPOSITORY_CARD\",\"click_target\":\"OWNER\",\"click_visual_representation\":\"REPOSITORY_OWNER_HEADING\",\"actor_id\":null,\"record_id\":97088,\"originating_url\":\"https://github.com/topics/3d\",\"user_id\":null}}' data-hydro-click-hmac=\"4bdbc49d3c05ae7f70b531fbce709a384200b0768554e0172950286a8db30940\" data-turbo=\"false\" data-view-component=\"true\" href=\"/mrdoob\">\n",
       "            mrdoob\n",
       "</a>          /\n",
       "          <a class=\"text-bold wb-break-word\" data-hydro-click='{\"event_type\":\"explore.click\",\"payload\":{\"click_context\":\"REPOSITORY_CARD\",\"click_target\":\"REPOSITORY\",\"click_visual_representation\":\"REPOSITORY_NAME_HEADING\",\"actor_id\":null,\"record_id\":576201,\"originating_url\":\"https://github.com/topics/3d\",\"user_id\":null}}' data-hydro-click-hmac=\"517d3d5cb9d89752156923904a4238816bc9b51ab7772f3e3644ce897d8dd4e5\" data-turbo=\"false\" data-view-component=\"true\" href=\"/mrdoob/three.js\">\n",
       "            three.js\n",
       "</a> </h3>"
      ]
     },
     "execution_count": 34,
     "metadata": {},
     "output_type": "execute_result"
    }
   ],
   "source": [
    "repo_tags[0]"
   ]
  },
  {
   "cell_type": "code",
   "execution_count": 35,
   "id": "541482bb",
   "metadata": {},
   "outputs": [
    {
     "data": {
      "text/plain": [
       "20"
      ]
     },
     "execution_count": 35,
     "metadata": {},
     "output_type": "execute_result"
    }
   ],
   "source": [
    "len(repo_tags)"
   ]
  },
  {
   "cell_type": "code",
   "execution_count": 36,
   "id": "c4c5e869",
   "metadata": {},
   "outputs": [],
   "source": [
    "a_tags = repo_tags[0].find_all('a')"
   ]
  },
  {
   "cell_type": "code",
   "execution_count": 37,
   "id": "a1df6b32",
   "metadata": {},
   "outputs": [
    {
     "data": {
      "text/plain": [
       "'mrdoob'"
      ]
     },
     "execution_count": 37,
     "metadata": {},
     "output_type": "execute_result"
    }
   ],
   "source": [
    "a_tags[0].text.strip()"
   ]
  },
  {
   "cell_type": "code",
   "execution_count": 38,
   "id": "dd9f3f64",
   "metadata": {},
   "outputs": [
    {
     "data": {
      "text/plain": [
       "'three.js'"
      ]
     },
     "execution_count": 38,
     "metadata": {},
     "output_type": "execute_result"
    }
   ],
   "source": [
    "a_tags[1].text.strip()"
   ]
  },
  {
   "cell_type": "code",
   "execution_count": 39,
   "id": "c778c6a5",
   "metadata": {},
   "outputs": [
    {
     "name": "stdout",
     "output_type": "stream",
     "text": [
      "https://github.com/mrdoob/three.js\n"
     ]
    }
   ],
   "source": [
    "base_url = 'https://github.com'\n",
    "repo_url = base_url + a_tags[1]['href']\n",
    "print(repo_url)"
   ]
  },
  {
   "cell_type": "code",
   "execution_count": 40,
   "id": "fece7e01",
   "metadata": {},
   "outputs": [],
   "source": [
    "star_tags = topic_doc.find_all('span', { 'id': 'repo-stars-counter-star'})"
   ]
  },
  {
   "cell_type": "code",
   "execution_count": 41,
   "id": "6daa53a1",
   "metadata": {},
   "outputs": [
    {
     "data": {
      "text/plain": [
       "20"
      ]
     },
     "execution_count": 41,
     "metadata": {},
     "output_type": "execute_result"
    }
   ],
   "source": [
    "len(star_tags)"
   ]
  },
  {
   "cell_type": "code",
   "execution_count": 42,
   "id": "44e50132",
   "metadata": {},
   "outputs": [
    {
     "data": {
      "text/plain": [
       "'85.6k'"
      ]
     },
     "execution_count": 42,
     "metadata": {},
     "output_type": "execute_result"
    }
   ],
   "source": [
    "star_tags[0].text.strip()\n"
   ]
  },
  {
   "cell_type": "code",
   "execution_count": 43,
   "id": "31949733",
   "metadata": {},
   "outputs": [],
   "source": [
    "def parse_star_count(stars_str):\n",
    "    stars_str = stars_str.strip()\n",
    "    if stars_str[-1] == 'k':\n",
    "        return int(float(stars_str[:-1]) * 1000)\n",
    "    return int(stars_str)"
   ]
  },
  {
   "cell_type": "code",
   "execution_count": 44,
   "id": "8f50ac95",
   "metadata": {},
   "outputs": [
    {
     "data": {
      "text/plain": [
       "85600"
      ]
     },
     "execution_count": 44,
     "metadata": {},
     "output_type": "execute_result"
    }
   ],
   "source": [
    "parse_star_count(star_tags[0].text.strip())"
   ]
  },
  {
   "cell_type": "code",
   "execution_count": null,
   "id": "c51ff08a",
   "metadata": {},
   "outputs": [],
   "source": []
  },
  {
   "cell_type": "code",
   "execution_count": null,
   "id": "6fd2babd",
   "metadata": {},
   "outputs": [],
   "source": []
  },
  {
   "cell_type": "code",
   "execution_count": 45,
   "id": "3e2aa7df",
   "metadata": {},
   "outputs": [],
   "source": [
    " \n",
    "def get_repo_info(h1_tag, star_tag):\n",
    "    # returns all the required info about a repository\n",
    "    a_tags = h1_tag.find_all('a')\n",
    "    username = a_tags[0].text.strip()\n",
    "    repo_name = a_tags[1].text.strip()\n",
    "    repo_url =  base_url + a_tags[1]['href']\n",
    "    stars = parse_star_count(star_tag.text.strip())\n",
    "    return username, repo_name, stars, repo_url"
   ]
  },
  {
   "cell_type": "code",
   "execution_count": 46,
   "id": "ed78ee86",
   "metadata": {},
   "outputs": [
    {
     "data": {
      "text/plain": [
       "('mrdoob', 'three.js', 85600, 'https://github.com/mrdoob/three.js')"
      ]
     },
     "execution_count": 46,
     "metadata": {},
     "output_type": "execute_result"
    }
   ],
   "source": [
    "get_repo_info(repo_tags[0], star_tags[0])"
   ]
  },
  {
   "cell_type": "code",
   "execution_count": 57,
   "id": "a85464a0",
   "metadata": {},
   "outputs": [],
   "source": [
    "topic_repos_dict = {\n",
    "    'username': [],\n",
    "    'repo_name': [],\n",
    "    'stars': [],\n",
    "    'repo_url': []\n",
    "}\n",
    "\n",
    "\n",
    "for i in range(len(repo_tags)):\n",
    "    repo_info = get_repo_info(repo_tags[i], star_tags[i])\n",
    "    topic_repos_dict['username'].append(repo_info[0])\n",
    "    topic_repos_dict['repo_name'].append(repo_info[1])\n",
    "    topic_repos_dict['stars'].append(repo_info[2])\n",
    "    topic_repos_dict['repo_url'].append(repo_info[3])"
   ]
  },
  {
   "cell_type": "code",
   "execution_count": 59,
   "id": "0907d749",
   "metadata": {},
   "outputs": [],
   "source": [
    "# topic_repos_dict"
   ]
  },
  {
   "cell_type": "code",
   "execution_count": null,
   "id": "a7a56560",
   "metadata": {},
   "outputs": [],
   "source": []
  },
  {
   "cell_type": "markdown",
   "id": "daf947b2",
   "metadata": {},
   "source": [
    "# Final Code"
   ]
  },
  {
   "cell_type": "code",
   "execution_count": 49,
   "id": "833af037",
   "metadata": {},
   "outputs": [],
   "source": [
    "def get_topic_page(topic_url):\n",
    "    # Download the page\n",
    "    response = requests.get(topic_url)\n",
    "    # Check successful response\n",
    "    if response.status_code != 200:\n",
    "        raise Exception('Failed to load page {}'.format(topic_url))\n",
    "    # Parse using Beautiful soup\n",
    "    topic_doc = BeautifulSoup(response.text, 'html.parser')\n",
    "    return topic_doc"
   ]
  },
  {
   "cell_type": "code",
   "execution_count": 62,
   "id": "baf75fea",
   "metadata": {},
   "outputs": [],
   "source": [
    "# get_topic_page()"
   ]
  },
  {
   "cell_type": "code",
   "execution_count": 75,
   "id": "3f7e6320",
   "metadata": {},
   "outputs": [],
   "source": [
    "import os\n",
    "\n",
    "def get_topic_page(topic_url):\n",
    "    # Download the page\n",
    "    response = requests.get(topic_url)\n",
    "    # Check successful response\n",
    "    if response.status_code != 200:\n",
    "        raise Exception('Failed to load page {}'.format(topic_url))\n",
    "    # Parse using Beautiful soup\n",
    "    topic_doc = BeautifulSoup(response.text, 'html.parser')\n",
    "    return topic_doc\n",
    "\n",
    "def get_repo_info(h3_tag, star_tag):\n",
    "    # returns all the required info about a repository\n",
    "    a_tags = h3_tag.find_all('a')\n",
    "    username = a_tags[0].text.strip()\n",
    "    repo_name = a_tags[1].text.strip()\n",
    "    repo_url =  base_url + a_tags[1]['href']\n",
    "    stars = parse_star_count(star_tag.text.strip())\n",
    "    return username, repo_name, stars, repo_url\n",
    "\n",
    "def get_topic_repos(topic_doc):\n",
    "    # Get the h1 tags containing repo title, repo URL and username\n",
    "    h1_selection_class = 'f3 color-fg-muted text-normal lh-condensed'\n",
    "    repo_tags = topic_doc.find_all('h3', {'class': h1_selection_class} )\n",
    "    # Get star tags\n",
    "    star_tags = topic_doc.find_all('span', { 'id': 'repo-stars-counter-star'})\n",
    "    \n",
    "    topic_repos_dict = { 'username': [], 'repo_name': [], 'stars': [],'repo_url': []}\n",
    "\n",
    "    # Get repo info\n",
    "    for i in range(len(repo_tags)):\n",
    "        repo_info = get_repo_info(repo_tags[i], star_tags[i])\n",
    "#         print(repo_info)\n",
    "        topic_repos_dict['username'].append(repo_info[0])\n",
    "        topic_repos_dict['repo_name'].append(repo_info[1])\n",
    "        topic_repos_dict['stars'].append(repo_info[2])\n",
    "        topic_repos_dict['repo_url'].append(repo_info[3])\n",
    "        \n",
    "    return pd.DataFrame(topic_repos_dict)\n",
    "\n",
    "\n",
    "def scrape_topic(topic_url, path):\n",
    "    if os.path.exists(path):\n",
    "        print(\"The file {} already exists. Skipping...\".format(path))\n",
    "        return\n",
    "    topic_df = get_topic_repos(get_topic_page(topic_url))\n",
    "    topic_df.to_csv(path, index=None)"
   ]
  },
  {
   "cell_type": "code",
   "execution_count": 76,
   "id": "c32f7dc5",
   "metadata": {},
   "outputs": [],
   "source": [
    "def get_topic_titles(doc):\n",
    "    selection_class = 'f3 lh-condensed mb-0 mt-1 Link--primary' #f3 lh-condensed mb-0 mt-1 Link--primary\n",
    "    topic_title_tags = doc.find_all('p', {'class': selection_class})\n",
    "    topic_titles = []\n",
    "    for tag in topic_title_tags:\n",
    "        topic_titles.append(tag.text)\n",
    "    return topic_titles\n",
    "\n",
    "def get_topic_descs(doc):\n",
    "    desc_selector = 'f5 color-fg-muted mb-0 mt-1'\n",
    "    topic_desc_tags = doc.find_all('p', {'class': desc_selector})\n",
    "    topic_descs = []\n",
    "    for tag in topic_desc_tags:\n",
    "        topic_descs.append(tag.text.strip())\n",
    "    return topic_descs\n",
    "\n",
    "def get_topic_urls(doc):\n",
    "    topic_link_tags = doc.find_all('a', {'class': 'no-underline flex-1 d-flex flex-column'})\n",
    "    topic_urls = []\n",
    "    base_url = 'https://github.com'\n",
    "    for tag in topic_link_tags:\n",
    "        topic_urls.append(base_url + tag['href'])\n",
    "    return topic_urls\n",
    "    \n",
    "\n",
    "def scrape_topics():\n",
    "    topics_url = 'https://github.com/topics'\n",
    "    response = requests.get(topics_url)\n",
    "    if response.status_code != 200:\n",
    "        raise Exception('Failed to load page {}'.format(topic_url))\n",
    "    topics_dict = {\n",
    "        'title': get_topic_titles(doc),\n",
    "        'description': get_topic_descs(doc),\n",
    "        'url': get_topic_urls(doc)\n",
    "    }\n",
    "    return pd.DataFrame(topics_dict)"
   ]
  },
  {
   "cell_type": "code",
   "execution_count": 79,
   "id": "3aef98a0",
   "metadata": {},
   "outputs": [],
   "source": [
    "def scrape_topics_repos():\n",
    "    print('Scraping list of topics')\n",
    "    topics_df = scrape_topics()\n",
    "    \n",
    "    os.makedirs('data', exist_ok=True)\n",
    "    for index, row in topics_df.iterrows():\n",
    "        print('Scraping top repositories for \"{}\"'.format(row['title']))\n",
    "        scrape_topic(row['url'], 'data/{}.csv'.format(row['title']))"
   ]
  },
  {
   "cell_type": "code",
   "execution_count": 80,
   "id": "92f98189",
   "metadata": {},
   "outputs": [
    {
     "name": "stdout",
     "output_type": "stream",
     "text": [
      "Scraping list of topics\n",
      "Scraping top repositories for \"3D\"\n",
      "Scraping top repositories for \"Ajax\"\n",
      "Scraping top repositories for \"Algorithm\"\n",
      "Scraping top repositories for \"Amp\"\n",
      "Scraping top repositories for \"Android\"\n",
      "Scraping top repositories for \"Angular\"\n",
      "Scraping top repositories for \"Ansible\"\n",
      "Scraping top repositories for \"API\"\n",
      "Scraping top repositories for \"Arduino\"\n",
      "Scraping top repositories for \"ASP.NET\"\n",
      "Scraping top repositories for \"Atom\"\n",
      "Scraping top repositories for \"Awesome Lists\"\n",
      "Scraping top repositories for \"Amazon Web Services\"\n",
      "Scraping top repositories for \"Azure\"\n",
      "Scraping top repositories for \"Babel\"\n",
      "Scraping top repositories for \"Bash\"\n",
      "Scraping top repositories for \"Bitcoin\"\n",
      "Scraping top repositories for \"Bootstrap\"\n",
      "Scraping top repositories for \"Bot\"\n",
      "Scraping top repositories for \"C\"\n",
      "Scraping top repositories for \"Chrome\"\n",
      "Scraping top repositories for \"Chrome extension\"\n",
      "Scraping top repositories for \"Command line interface\"\n",
      "Scraping top repositories for \"Clojure\"\n",
      "Scraping top repositories for \"Code quality\"\n",
      "Scraping top repositories for \"Code review\"\n",
      "Scraping top repositories for \"Compiler\"\n",
      "Scraping top repositories for \"Continuous integration\"\n",
      "Scraping top repositories for \"COVID-19\"\n",
      "Scraping top repositories for \"C++\"\n"
     ]
    }
   ],
   "source": [
    "scrape_topics_repos()"
   ]
  },
  {
   "cell_type": "code",
   "execution_count": 83,
   "id": "047eed8b",
   "metadata": {},
   "outputs": [
    {
     "data": {
      "text/html": [
       "<div>\n",
       "<style scoped>\n",
       "    .dataframe tbody tr th:only-of-type {\n",
       "        vertical-align: middle;\n",
       "    }\n",
       "\n",
       "    .dataframe tbody tr th {\n",
       "        vertical-align: top;\n",
       "    }\n",
       "\n",
       "    .dataframe thead th {\n",
       "        text-align: right;\n",
       "    }\n",
       "</style>\n",
       "<table border=\"1\" class=\"dataframe\">\n",
       "  <thead>\n",
       "    <tr style=\"text-align: right;\">\n",
       "      <th></th>\n",
       "      <th>username</th>\n",
       "      <th>repo_name</th>\n",
       "      <th>stars</th>\n",
       "      <th>repo_url</th>\n",
       "    </tr>\n",
       "  </thead>\n",
       "  <tbody>\n",
       "    <tr>\n",
       "      <th>0</th>\n",
       "      <td>CSSEGISandData</td>\n",
       "      <td>COVID-19</td>\n",
       "      <td>29000</td>\n",
       "      <td>https://github.com/CSSEGISandData/COVID-19</td>\n",
       "    </tr>\n",
       "    <tr>\n",
       "      <th>1</th>\n",
       "      <td>covid19india</td>\n",
       "      <td>covid19india-react</td>\n",
       "      <td>6900</td>\n",
       "      <td>https://github.com/covid19india/covid19india-r...</td>\n",
       "    </tr>\n",
       "    <tr>\n",
       "      <th>2</th>\n",
       "      <td>nytimes</td>\n",
       "      <td>covid-19-data</td>\n",
       "      <td>6900</td>\n",
       "      <td>https://github.com/nytimes/covid-19-data</td>\n",
       "    </tr>\n",
       "    <tr>\n",
       "      <th>3</th>\n",
       "      <td>tokyo-metropolitan-gov</td>\n",
       "      <td>covid19</td>\n",
       "      <td>6400</td>\n",
       "      <td>https://github.com/tokyo-metropolitan-gov/covid19</td>\n",
       "    </tr>\n",
       "    <tr>\n",
       "      <th>4</th>\n",
       "      <td>owid</td>\n",
       "      <td>covid-19-data</td>\n",
       "      <td>5400</td>\n",
       "      <td>https://github.com/owid/covid-19-data</td>\n",
       "    </tr>\n",
       "    <tr>\n",
       "      <th>5</th>\n",
       "      <td>pcm-dpc</td>\n",
       "      <td>COVID-19</td>\n",
       "      <td>3900</td>\n",
       "      <td>https://github.com/pcm-dpc/COVID-19</td>\n",
       "    </tr>\n",
       "    <tr>\n",
       "      <th>6</th>\n",
       "      <td>ieee8023</td>\n",
       "      <td>covid-chestxray-dataset</td>\n",
       "      <td>2900</td>\n",
       "      <td>https://github.com/ieee8023/covid-chestxray-da...</td>\n",
       "    </tr>\n",
       "    <tr>\n",
       "      <th>7</th>\n",
       "      <td>disease-sh</td>\n",
       "      <td>API</td>\n",
       "      <td>2400</td>\n",
       "      <td>https://github.com/disease-sh/API</td>\n",
       "    </tr>\n",
       "    <tr>\n",
       "      <th>8</th>\n",
       "      <td>geohot</td>\n",
       "      <td>corona</td>\n",
       "      <td>2300</td>\n",
       "      <td>https://github.com/geohot/corona</td>\n",
       "    </tr>\n",
       "    <tr>\n",
       "      <th>9</th>\n",
       "      <td>WorldHealthOrganization</td>\n",
       "      <td>app</td>\n",
       "      <td>2100</td>\n",
       "      <td>https://github.com/WorldHealthOrganization/app</td>\n",
       "    </tr>\n",
       "    <tr>\n",
       "      <th>10</th>\n",
       "      <td>corona-warn-app</td>\n",
       "      <td>cwa-server</td>\n",
       "      <td>1900</td>\n",
       "      <td>https://github.com/corona-warn-app/cwa-server</td>\n",
       "    </tr>\n",
       "    <tr>\n",
       "      <th>11</th>\n",
       "      <td>ahmadawais</td>\n",
       "      <td>corona-cli</td>\n",
       "      <td>1900</td>\n",
       "      <td>https://github.com/ahmadawais/corona-cli</td>\n",
       "    </tr>\n",
       "    <tr>\n",
       "      <th>12</th>\n",
       "      <td>github</td>\n",
       "      <td>covid19-dashboard</td>\n",
       "      <td>1600</td>\n",
       "      <td>https://github.com/github/covid19-dashboard</td>\n",
       "    </tr>\n",
       "    <tr>\n",
       "      <th>13</th>\n",
       "      <td>ExpDev07</td>\n",
       "      <td>coronavirus-tracker-api</td>\n",
       "      <td>1600</td>\n",
       "      <td>https://github.com/ExpDev07/coronavirus-tracke...</td>\n",
       "    </tr>\n",
       "    <tr>\n",
       "      <th>14</th>\n",
       "      <td>soroushchehresa</td>\n",
       "      <td>awesome-coronavirus</td>\n",
       "      <td>1500</td>\n",
       "      <td>https://github.com/soroushchehresa/awesome-cor...</td>\n",
       "    </tr>\n",
       "    <tr>\n",
       "      <th>15</th>\n",
       "      <td>mhdhejazi</td>\n",
       "      <td>CoronaTracker</td>\n",
       "      <td>1500</td>\n",
       "      <td>https://github.com/mhdhejazi/CoronaTracker</td>\n",
       "    </tr>\n",
       "    <tr>\n",
       "      <th>16</th>\n",
       "      <td>neherlab</td>\n",
       "      <td>covid19_scenarios</td>\n",
       "      <td>1400</td>\n",
       "      <td>https://github.com/neherlab/covid19_scenarios</td>\n",
       "    </tr>\n",
       "    <tr>\n",
       "      <th>17</th>\n",
       "      <td>chandrikadeb7</td>\n",
       "      <td>Face-Mask-Detection</td>\n",
       "      <td>1300</td>\n",
       "      <td>https://github.com/chandrikadeb7/Face-Mask-Det...</td>\n",
       "    </tr>\n",
       "    <tr>\n",
       "      <th>18</th>\n",
       "      <td>pomber</td>\n",
       "      <td>covid19</td>\n",
       "      <td>1200</td>\n",
       "      <td>https://github.com/pomber/covid19</td>\n",
       "    </tr>\n",
       "    <tr>\n",
       "      <th>19</th>\n",
       "      <td>covidpass-org</td>\n",
       "      <td>covidpass</td>\n",
       "      <td>1200</td>\n",
       "      <td>https://github.com/covidpass-org/covidpass</td>\n",
       "    </tr>\n",
       "  </tbody>\n",
       "</table>\n",
       "</div>"
      ],
      "text/plain": [
       "                   username                repo_name  stars  \\\n",
       "0            CSSEGISandData                 COVID-19  29000   \n",
       "1              covid19india       covid19india-react   6900   \n",
       "2                   nytimes            covid-19-data   6900   \n",
       "3    tokyo-metropolitan-gov                  covid19   6400   \n",
       "4                      owid            covid-19-data   5400   \n",
       "5                   pcm-dpc                 COVID-19   3900   \n",
       "6                  ieee8023  covid-chestxray-dataset   2900   \n",
       "7                disease-sh                      API   2400   \n",
       "8                    geohot                   corona   2300   \n",
       "9   WorldHealthOrganization                      app   2100   \n",
       "10          corona-warn-app               cwa-server   1900   \n",
       "11               ahmadawais               corona-cli   1900   \n",
       "12                   github        covid19-dashboard   1600   \n",
       "13                 ExpDev07  coronavirus-tracker-api   1600   \n",
       "14          soroushchehresa      awesome-coronavirus   1500   \n",
       "15                mhdhejazi            CoronaTracker   1500   \n",
       "16                 neherlab        covid19_scenarios   1400   \n",
       "17            chandrikadeb7      Face-Mask-Detection   1300   \n",
       "18                   pomber                  covid19   1200   \n",
       "19            covidpass-org                covidpass   1200   \n",
       "\n",
       "                                             repo_url  \n",
       "0          https://github.com/CSSEGISandData/COVID-19  \n",
       "1   https://github.com/covid19india/covid19india-r...  \n",
       "2            https://github.com/nytimes/covid-19-data  \n",
       "3   https://github.com/tokyo-metropolitan-gov/covid19  \n",
       "4               https://github.com/owid/covid-19-data  \n",
       "5                 https://github.com/pcm-dpc/COVID-19  \n",
       "6   https://github.com/ieee8023/covid-chestxray-da...  \n",
       "7                   https://github.com/disease-sh/API  \n",
       "8                    https://github.com/geohot/corona  \n",
       "9      https://github.com/WorldHealthOrganization/app  \n",
       "10      https://github.com/corona-warn-app/cwa-server  \n",
       "11           https://github.com/ahmadawais/corona-cli  \n",
       "12        https://github.com/github/covid19-dashboard  \n",
       "13  https://github.com/ExpDev07/coronavirus-tracke...  \n",
       "14  https://github.com/soroushchehresa/awesome-cor...  \n",
       "15         https://github.com/mhdhejazi/CoronaTracker  \n",
       "16      https://github.com/neherlab/covid19_scenarios  \n",
       "17  https://github.com/chandrikadeb7/Face-Mask-Det...  \n",
       "18                  https://github.com/pomber/covid19  \n",
       "19         https://github.com/covidpass-org/covidpass  "
      ]
     },
     "execution_count": 83,
     "metadata": {},
     "output_type": "execute_result"
    }
   ],
   "source": [
    "covid = pd.read_csv(\"data/COVID-19.csv\")\n",
    "covid"
   ]
  },
  {
   "cell_type": "code",
   "execution_count": 84,
   "id": "d0718839",
   "metadata": {},
   "outputs": [
    {
     "data": {
      "text/html": [
       "<div>\n",
       "<style scoped>\n",
       "    .dataframe tbody tr th:only-of-type {\n",
       "        vertical-align: middle;\n",
       "    }\n",
       "\n",
       "    .dataframe tbody tr th {\n",
       "        vertical-align: top;\n",
       "    }\n",
       "\n",
       "    .dataframe thead th {\n",
       "        text-align: right;\n",
       "    }\n",
       "</style>\n",
       "<table border=\"1\" class=\"dataframe\">\n",
       "  <thead>\n",
       "    <tr style=\"text-align: right;\">\n",
       "      <th></th>\n",
       "      <th>username</th>\n",
       "      <th>repo_name</th>\n",
       "      <th>stars</th>\n",
       "      <th>repo_url</th>\n",
       "    </tr>\n",
       "  </thead>\n",
       "  <tbody>\n",
       "    <tr>\n",
       "      <th>0</th>\n",
       "      <td>vercel</td>\n",
       "      <td>next.js</td>\n",
       "      <td>93200</td>\n",
       "      <td>https://github.com/vercel/next.js</td>\n",
       "    </tr>\n",
       "    <tr>\n",
       "      <th>1</th>\n",
       "      <td>rust-lang</td>\n",
       "      <td>rust</td>\n",
       "      <td>72400</td>\n",
       "      <td>https://github.com/rust-lang/rust</td>\n",
       "    </tr>\n",
       "    <tr>\n",
       "      <th>2</th>\n",
       "      <td>sveltejs</td>\n",
       "      <td>svelte</td>\n",
       "      <td>62300</td>\n",
       "      <td>https://github.com/sveltejs/svelte</td>\n",
       "    </tr>\n",
       "    <tr>\n",
       "      <th>3</th>\n",
       "      <td>webpack</td>\n",
       "      <td>webpack</td>\n",
       "      <td>61800</td>\n",
       "      <td>https://github.com/webpack/webpack</td>\n",
       "    </tr>\n",
       "    <tr>\n",
       "      <th>4</th>\n",
       "      <td>gatsbyjs</td>\n",
       "      <td>gatsby</td>\n",
       "      <td>53600</td>\n",
       "      <td>https://github.com/gatsbyjs/gatsby</td>\n",
       "    </tr>\n",
       "    <tr>\n",
       "      <th>5</th>\n",
       "      <td>JetBrains</td>\n",
       "      <td>kotlin</td>\n",
       "      <td>42700</td>\n",
       "      <td>https://github.com/JetBrains/kotlin</td>\n",
       "    </tr>\n",
       "    <tr>\n",
       "      <th>6</th>\n",
       "      <td>babel</td>\n",
       "      <td>babel</td>\n",
       "      <td>41400</td>\n",
       "      <td>https://github.com/babel/babel</td>\n",
       "    </tr>\n",
       "    <tr>\n",
       "      <th>7</th>\n",
       "      <td>parcel-bundler</td>\n",
       "      <td>parcel</td>\n",
       "      <td>41400</td>\n",
       "      <td>https://github.com/parcel-bundler/parcel</td>\n",
       "    </tr>\n",
       "    <tr>\n",
       "      <th>8</th>\n",
       "      <td>evanw</td>\n",
       "      <td>esbuild</td>\n",
       "      <td>33400</td>\n",
       "      <td>https://github.com/evanw/esbuild</td>\n",
       "    </tr>\n",
       "    <tr>\n",
       "      <th>9</th>\n",
       "      <td>vlang</td>\n",
       "      <td>v</td>\n",
       "      <td>30600</td>\n",
       "      <td>https://github.com/vlang/v</td>\n",
       "    </tr>\n",
       "    <tr>\n",
       "      <th>10</th>\n",
       "      <td>markedjs</td>\n",
       "      <td>marked</td>\n",
       "      <td>28400</td>\n",
       "      <td>https://github.com/markedjs/marked</td>\n",
       "    </tr>\n",
       "    <tr>\n",
       "      <th>11</th>\n",
       "      <td>carbon-language</td>\n",
       "      <td>carbon-lang</td>\n",
       "      <td>27800</td>\n",
       "      <td>https://github.com/carbon-language/carbon-lang</td>\n",
       "    </tr>\n",
       "    <tr>\n",
       "      <th>12</th>\n",
       "      <td>swc-project</td>\n",
       "      <td>swc</td>\n",
       "      <td>24000</td>\n",
       "      <td>https://github.com/swc-project/swc</td>\n",
       "    </tr>\n",
       "    <tr>\n",
       "      <th>13</th>\n",
       "      <td>vercel</td>\n",
       "      <td>pkg</td>\n",
       "      <td>22000</td>\n",
       "      <td>https://github.com/vercel/pkg</td>\n",
       "    </tr>\n",
       "    <tr>\n",
       "      <th>14</th>\n",
       "      <td>v8</td>\n",
       "      <td>v8</td>\n",
       "      <td>20200</td>\n",
       "      <td>https://github.com/v8/v8</td>\n",
       "    </tr>\n",
       "    <tr>\n",
       "      <th>15</th>\n",
       "      <td>ziglang</td>\n",
       "      <td>zig</td>\n",
       "      <td>17800</td>\n",
       "      <td>https://github.com/ziglang/zig</td>\n",
       "    </tr>\n",
       "    <tr>\n",
       "      <th>16</th>\n",
       "      <td>AssemblyScript</td>\n",
       "      <td>assemblyscript</td>\n",
       "      <td>14600</td>\n",
       "      <td>https://github.com/AssemblyScript/assemblyscript</td>\n",
       "    </tr>\n",
       "    <tr>\n",
       "      <th>17</th>\n",
       "      <td>nim-lang</td>\n",
       "      <td>Nim</td>\n",
       "      <td>13600</td>\n",
       "      <td>https://github.com/nim-lang/Nim</td>\n",
       "    </tr>\n",
       "    <tr>\n",
       "      <th>18</th>\n",
       "      <td>Konloch</td>\n",
       "      <td>bytecode-viewer</td>\n",
       "      <td>13300</td>\n",
       "      <td>https://github.com/Konloch/bytecode-viewer</td>\n",
       "    </tr>\n",
       "    <tr>\n",
       "      <th>19</th>\n",
       "      <td>RustPython</td>\n",
       "      <td>RustPython</td>\n",
       "      <td>12200</td>\n",
       "      <td>https://github.com/RustPython/RustPython</td>\n",
       "    </tr>\n",
       "  </tbody>\n",
       "</table>\n",
       "</div>"
      ],
      "text/plain": [
       "           username        repo_name  stars  \\\n",
       "0            vercel          next.js  93200   \n",
       "1         rust-lang             rust  72400   \n",
       "2          sveltejs           svelte  62300   \n",
       "3           webpack          webpack  61800   \n",
       "4          gatsbyjs           gatsby  53600   \n",
       "5         JetBrains           kotlin  42700   \n",
       "6             babel            babel  41400   \n",
       "7    parcel-bundler           parcel  41400   \n",
       "8             evanw          esbuild  33400   \n",
       "9             vlang                v  30600   \n",
       "10         markedjs           marked  28400   \n",
       "11  carbon-language      carbon-lang  27800   \n",
       "12      swc-project              swc  24000   \n",
       "13           vercel              pkg  22000   \n",
       "14               v8               v8  20200   \n",
       "15          ziglang              zig  17800   \n",
       "16   AssemblyScript   assemblyscript  14600   \n",
       "17         nim-lang              Nim  13600   \n",
       "18          Konloch  bytecode-viewer  13300   \n",
       "19       RustPython       RustPython  12200   \n",
       "\n",
       "                                            repo_url  \n",
       "0                  https://github.com/vercel/next.js  \n",
       "1                  https://github.com/rust-lang/rust  \n",
       "2                 https://github.com/sveltejs/svelte  \n",
       "3                 https://github.com/webpack/webpack  \n",
       "4                 https://github.com/gatsbyjs/gatsby  \n",
       "5                https://github.com/JetBrains/kotlin  \n",
       "6                     https://github.com/babel/babel  \n",
       "7           https://github.com/parcel-bundler/parcel  \n",
       "8                   https://github.com/evanw/esbuild  \n",
       "9                         https://github.com/vlang/v  \n",
       "10                https://github.com/markedjs/marked  \n",
       "11    https://github.com/carbon-language/carbon-lang  \n",
       "12                https://github.com/swc-project/swc  \n",
       "13                     https://github.com/vercel/pkg  \n",
       "14                          https://github.com/v8/v8  \n",
       "15                    https://github.com/ziglang/zig  \n",
       "16  https://github.com/AssemblyScript/assemblyscript  \n",
       "17                   https://github.com/nim-lang/Nim  \n",
       "18        https://github.com/Konloch/bytecode-viewer  \n",
       "19          https://github.com/RustPython/RustPython  "
      ]
     },
     "execution_count": 84,
     "metadata": {},
     "output_type": "execute_result"
    }
   ],
   "source": [
    "compiler = pd.read_csv(\"data/Compiler.csv\")\n",
    "compiler"
   ]
  },
  {
   "cell_type": "code",
   "execution_count": null,
   "id": "191b8bac",
   "metadata": {},
   "outputs": [],
   "source": []
  },
  {
   "cell_type": "markdown",
   "id": "d56eeb0d",
   "metadata": {},
   "source": [
    "# Top 20 repositories for Deep learning"
   ]
  },
  {
   "cell_type": "code",
   "execution_count": 95,
   "id": "f7b7aead",
   "metadata": {},
   "outputs": [
    {
     "data": {
      "text/html": [
       "<div>\n",
       "<style scoped>\n",
       "    .dataframe tbody tr th:only-of-type {\n",
       "        vertical-align: middle;\n",
       "    }\n",
       "\n",
       "    .dataframe tbody tr th {\n",
       "        vertical-align: top;\n",
       "    }\n",
       "\n",
       "    .dataframe thead th {\n",
       "        text-align: right;\n",
       "    }\n",
       "</style>\n",
       "<table border=\"1\" class=\"dataframe\">\n",
       "  <thead>\n",
       "    <tr style=\"text-align: right;\">\n",
       "      <th></th>\n",
       "      <th>username</th>\n",
       "      <th>repo_name</th>\n",
       "      <th>stars</th>\n",
       "      <th>repo_url</th>\n",
       "    </tr>\n",
       "  </thead>\n",
       "  <tbody>\n",
       "    <tr>\n",
       "      <th>0</th>\n",
       "      <td>tensorflow</td>\n",
       "      <td>tensorflow</td>\n",
       "      <td>168000</td>\n",
       "      <td>https://github.com/tensorflow/tensorflow</td>\n",
       "    </tr>\n",
       "    <tr>\n",
       "      <th>1</th>\n",
       "      <td>huggingface</td>\n",
       "      <td>transformers</td>\n",
       "      <td>71000</td>\n",
       "      <td>https://github.com/huggingface/transformers</td>\n",
       "    </tr>\n",
       "    <tr>\n",
       "      <th>2</th>\n",
       "      <td>opencv</td>\n",
       "      <td>opencv</td>\n",
       "      <td>64000</td>\n",
       "      <td>https://github.com/opencv/opencv</td>\n",
       "    </tr>\n",
       "    <tr>\n",
       "      <th>3</th>\n",
       "      <td>pytorch</td>\n",
       "      <td>pytorch</td>\n",
       "      <td>59100</td>\n",
       "      <td>https://github.com/pytorch/pytorch</td>\n",
       "    </tr>\n",
       "    <tr>\n",
       "      <th>4</th>\n",
       "      <td>keras-team</td>\n",
       "      <td>keras</td>\n",
       "      <td>56300</td>\n",
       "      <td>https://github.com/keras-team/keras</td>\n",
       "    </tr>\n",
       "    <tr>\n",
       "      <th>5</th>\n",
       "      <td>deepfakes</td>\n",
       "      <td>faceswap</td>\n",
       "      <td>42300</td>\n",
       "      <td>https://github.com/deepfakes/faceswap</td>\n",
       "    </tr>\n",
       "    <tr>\n",
       "      <th>6</th>\n",
       "      <td>aymericdamien</td>\n",
       "      <td>TensorFlow-Examples</td>\n",
       "      <td>42300</td>\n",
       "      <td>https://github.com/aymericdamien/TensorFlow-Ex...</td>\n",
       "    </tr>\n",
       "    <tr>\n",
       "      <th>7</th>\n",
       "      <td>Avik-Jain</td>\n",
       "      <td>100-Days-Of-ML-Code</td>\n",
       "      <td>38400</td>\n",
       "      <td>https://github.com/Avik-Jain/100-Days-Of-ML-Code</td>\n",
       "    </tr>\n",
       "    <tr>\n",
       "      <th>8</th>\n",
       "      <td>CorentinJ</td>\n",
       "      <td>Real-Time-Voice-Cloning</td>\n",
       "      <td>36900</td>\n",
       "      <td>https://github.com/CorentinJ/Real-Time-Voice-C...</td>\n",
       "    </tr>\n",
       "    <tr>\n",
       "      <th>9</th>\n",
       "      <td>d2l-ai</td>\n",
       "      <td>d2l-zh</td>\n",
       "      <td>35300</td>\n",
       "      <td>https://github.com/d2l-ai/d2l-zh</td>\n",
       "    </tr>\n",
       "    <tr>\n",
       "      <th>10</th>\n",
       "      <td>iperov</td>\n",
       "      <td>DeepFaceLab</td>\n",
       "      <td>35100</td>\n",
       "      <td>https://github.com/iperov/DeepFaceLab</td>\n",
       "    </tr>\n",
       "    <tr>\n",
       "      <th>11</th>\n",
       "      <td>floodsung</td>\n",
       "      <td>Deep-Learning-Papers-Reading-Roadmap</td>\n",
       "      <td>33500</td>\n",
       "      <td>https://github.com/floodsung/Deep-Learning-Pap...</td>\n",
       "    </tr>\n",
       "    <tr>\n",
       "      <th>12</th>\n",
       "      <td>BVLC</td>\n",
       "      <td>caffe</td>\n",
       "      <td>32900</td>\n",
       "      <td>https://github.com/BVLC/caffe</td>\n",
       "    </tr>\n",
       "    <tr>\n",
       "      <th>13</th>\n",
       "      <td>ultralytics</td>\n",
       "      <td>yolov5</td>\n",
       "      <td>31100</td>\n",
       "      <td>https://github.com/ultralytics/yolov5</td>\n",
       "    </tr>\n",
       "    <tr>\n",
       "      <th>14</th>\n",
       "      <td>GokuMohandas</td>\n",
       "      <td>Made-With-ML</td>\n",
       "      <td>31000</td>\n",
       "      <td>https://github.com/GokuMohandas/Made-With-ML</td>\n",
       "    </tr>\n",
       "    <tr>\n",
       "      <th>15</th>\n",
       "      <td>naptha</td>\n",
       "      <td>tesseract.js</td>\n",
       "      <td>27900</td>\n",
       "      <td>https://github.com/naptha/tesseract.js</td>\n",
       "    </tr>\n",
       "    <tr>\n",
       "      <th>16</th>\n",
       "      <td>ZuzooVn</td>\n",
       "      <td>machine-learning-for-software-engineers</td>\n",
       "      <td>26200</td>\n",
       "      <td>https://github.com/ZuzooVn/machine-learning-fo...</td>\n",
       "    </tr>\n",
       "    <tr>\n",
       "      <th>17</th>\n",
       "      <td>CMU-Perceptual-Computing-Lab</td>\n",
       "      <td>openpose</td>\n",
       "      <td>25000</td>\n",
       "      <td>https://github.com/CMU-Perceptual-Computing-La...</td>\n",
       "    </tr>\n",
       "    <tr>\n",
       "      <th>18</th>\n",
       "      <td>ageron</td>\n",
       "      <td>handson-ml</td>\n",
       "      <td>24900</td>\n",
       "      <td>https://github.com/ageron/handson-ml</td>\n",
       "    </tr>\n",
       "    <tr>\n",
       "      <th>19</th>\n",
       "      <td>yunjey</td>\n",
       "      <td>pytorch-tutorial</td>\n",
       "      <td>24800</td>\n",
       "      <td>https://github.com/yunjey/pytorch-tutorial</td>\n",
       "    </tr>\n",
       "  </tbody>\n",
       "</table>\n",
       "</div>"
      ],
      "text/plain": [
       "                        username                                repo_name  \\\n",
       "0                     tensorflow                               tensorflow   \n",
       "1                    huggingface                             transformers   \n",
       "2                         opencv                                   opencv   \n",
       "3                        pytorch                                  pytorch   \n",
       "4                     keras-team                                    keras   \n",
       "5                      deepfakes                                 faceswap   \n",
       "6                  aymericdamien                      TensorFlow-Examples   \n",
       "7                      Avik-Jain                      100-Days-Of-ML-Code   \n",
       "8                      CorentinJ                  Real-Time-Voice-Cloning   \n",
       "9                         d2l-ai                                   d2l-zh   \n",
       "10                        iperov                              DeepFaceLab   \n",
       "11                     floodsung     Deep-Learning-Papers-Reading-Roadmap   \n",
       "12                          BVLC                                    caffe   \n",
       "13                   ultralytics                                   yolov5   \n",
       "14                  GokuMohandas                             Made-With-ML   \n",
       "15                        naptha                             tesseract.js   \n",
       "16                       ZuzooVn  machine-learning-for-software-engineers   \n",
       "17  CMU-Perceptual-Computing-Lab                                 openpose   \n",
       "18                        ageron                               handson-ml   \n",
       "19                        yunjey                         pytorch-tutorial   \n",
       "\n",
       "     stars                                           repo_url  \n",
       "0   168000           https://github.com/tensorflow/tensorflow  \n",
       "1    71000        https://github.com/huggingface/transformers  \n",
       "2    64000                   https://github.com/opencv/opencv  \n",
       "3    59100                 https://github.com/pytorch/pytorch  \n",
       "4    56300                https://github.com/keras-team/keras  \n",
       "5    42300              https://github.com/deepfakes/faceswap  \n",
       "6    42300  https://github.com/aymericdamien/TensorFlow-Ex...  \n",
       "7    38400   https://github.com/Avik-Jain/100-Days-Of-ML-Code  \n",
       "8    36900  https://github.com/CorentinJ/Real-Time-Voice-C...  \n",
       "9    35300                   https://github.com/d2l-ai/d2l-zh  \n",
       "10   35100              https://github.com/iperov/DeepFaceLab  \n",
       "11   33500  https://github.com/floodsung/Deep-Learning-Pap...  \n",
       "12   32900                      https://github.com/BVLC/caffe  \n",
       "13   31100              https://github.com/ultralytics/yolov5  \n",
       "14   31000       https://github.com/GokuMohandas/Made-With-ML  \n",
       "15   27900             https://github.com/naptha/tesseract.js  \n",
       "16   26200  https://github.com/ZuzooVn/machine-learning-fo...  \n",
       "17   25000  https://github.com/CMU-Perceptual-Computing-La...  \n",
       "18   24900               https://github.com/ageron/handson-ml  \n",
       "19   24800         https://github.com/yunjey/pytorch-tutorial  "
      ]
     },
     "execution_count": 95,
     "metadata": {},
     "output_type": "execute_result"
    }
   ],
   "source": [
    "topic_df = get_topic_repos(get_topic_page(\"https://github.com/topics/deep-learning\"))\n",
    "topic_df"
   ]
  },
  {
   "cell_type": "markdown",
   "id": "da494a05",
   "metadata": {},
   "source": [
    "# Top 20 Repositories for Computer Vision"
   ]
  },
  {
   "cell_type": "code",
   "execution_count": 96,
   "id": "2921d1b2",
   "metadata": {},
   "outputs": [
    {
     "data": {
      "text/html": [
       "<div>\n",
       "<style scoped>\n",
       "    .dataframe tbody tr th:only-of-type {\n",
       "        vertical-align: middle;\n",
       "    }\n",
       "\n",
       "    .dataframe tbody tr th {\n",
       "        vertical-align: top;\n",
       "    }\n",
       "\n",
       "    .dataframe thead th {\n",
       "        text-align: right;\n",
       "    }\n",
       "</style>\n",
       "<table border=\"1\" class=\"dataframe\">\n",
       "  <thead>\n",
       "    <tr style=\"text-align: right;\">\n",
       "      <th></th>\n",
       "      <th>username</th>\n",
       "      <th>repo_name</th>\n",
       "      <th>stars</th>\n",
       "      <th>repo_url</th>\n",
       "    </tr>\n",
       "  </thead>\n",
       "  <tbody>\n",
       "    <tr>\n",
       "      <th>0</th>\n",
       "      <td>opencv</td>\n",
       "      <td>opencv</td>\n",
       "      <td>64000</td>\n",
       "      <td>https://github.com/opencv/opencv</td>\n",
       "    </tr>\n",
       "    <tr>\n",
       "      <th>1</th>\n",
       "      <td>Developer-Y</td>\n",
       "      <td>cs-video-courses</td>\n",
       "      <td>43200</td>\n",
       "      <td>https://github.com/Developer-Y/cs-video-courses</td>\n",
       "    </tr>\n",
       "    <tr>\n",
       "      <th>2</th>\n",
       "      <td>d2l-ai</td>\n",
       "      <td>d2l-zh</td>\n",
       "      <td>35300</td>\n",
       "      <td>https://github.com/d2l-ai/d2l-zh</td>\n",
       "    </tr>\n",
       "    <tr>\n",
       "      <th>3</th>\n",
       "      <td>CMU-Perceptual-Computing-Lab</td>\n",
       "      <td>openpose</td>\n",
       "      <td>25000</td>\n",
       "      <td>https://github.com/CMU-Perceptual-Computing-La...</td>\n",
       "    </tr>\n",
       "    <tr>\n",
       "      <th>4</th>\n",
       "      <td>eugeneyan</td>\n",
       "      <td>applied-ml</td>\n",
       "      <td>21500</td>\n",
       "      <td>https://github.com/eugeneyan/applied-ml</td>\n",
       "    </tr>\n",
       "    <tr>\n",
       "      <th>5</th>\n",
       "      <td>AlexeyAB</td>\n",
       "      <td>darknet</td>\n",
       "      <td>19800</td>\n",
       "      <td>https://github.com/AlexeyAB/darknet</td>\n",
       "    </tr>\n",
       "    <tr>\n",
       "      <th>6</th>\n",
       "      <td>google</td>\n",
       "      <td>mediapipe</td>\n",
       "      <td>18800</td>\n",
       "      <td>https://github.com/google/mediapipe</td>\n",
       "    </tr>\n",
       "    <tr>\n",
       "      <th>7</th>\n",
       "      <td>junyanz</td>\n",
       "      <td>pytorch-CycleGAN-and-pix2pix</td>\n",
       "      <td>18400</td>\n",
       "      <td>https://github.com/junyanz/pytorch-CycleGAN-an...</td>\n",
       "    </tr>\n",
       "    <tr>\n",
       "      <th>8</th>\n",
       "      <td>spmallick</td>\n",
       "      <td>learnopencv</td>\n",
       "      <td>17100</td>\n",
       "      <td>https://github.com/spmallick/learnopencv</td>\n",
       "    </tr>\n",
       "    <tr>\n",
       "      <th>9</th>\n",
       "      <td>ShusenTang</td>\n",
       "      <td>Dive-into-DL-PyTorch</td>\n",
       "      <td>15500</td>\n",
       "      <td>https://github.com/ShusenTang/Dive-into-DL-PyT...</td>\n",
       "    </tr>\n",
       "    <tr>\n",
       "      <th>10</th>\n",
       "      <td>d2l-ai</td>\n",
       "      <td>d2l-en</td>\n",
       "      <td>15000</td>\n",
       "      <td>https://github.com/d2l-ai/d2l-en</td>\n",
       "    </tr>\n",
       "    <tr>\n",
       "      <th>11</th>\n",
       "      <td>huggingface</td>\n",
       "      <td>datasets</td>\n",
       "      <td>14200</td>\n",
       "      <td>https://github.com/huggingface/datasets</td>\n",
       "    </tr>\n",
       "    <tr>\n",
       "      <th>12</th>\n",
       "      <td>microsoft</td>\n",
       "      <td>AirSim</td>\n",
       "      <td>13500</td>\n",
       "      <td>https://github.com/microsoft/AirSim</td>\n",
       "    </tr>\n",
       "    <tr>\n",
       "      <th>13</th>\n",
       "      <td>bharathgs</td>\n",
       "      <td>Awesome-pytorch-list</td>\n",
       "      <td>13400</td>\n",
       "      <td>https://github.com/bharathgs/Awesome-pytorch-list</td>\n",
       "    </tr>\n",
       "    <tr>\n",
       "      <th>14</th>\n",
       "      <td>virgili0</td>\n",
       "      <td>Virgilio</td>\n",
       "      <td>13300</td>\n",
       "      <td>https://github.com/virgili0/Virgilio</td>\n",
       "    </tr>\n",
       "    <tr>\n",
       "      <th>15</th>\n",
       "      <td>davidsandberg</td>\n",
       "      <td>facenet</td>\n",
       "      <td>12700</td>\n",
       "      <td>https://github.com/davidsandberg/facenet</td>\n",
       "    </tr>\n",
       "    <tr>\n",
       "      <th>16</th>\n",
       "      <td>pytorch</td>\n",
       "      <td>vision</td>\n",
       "      <td>12500</td>\n",
       "      <td>https://github.com/pytorch/vision</td>\n",
       "    </tr>\n",
       "    <tr>\n",
       "      <th>17</th>\n",
       "      <td>lucidrains</td>\n",
       "      <td>vit-pytorch</td>\n",
       "      <td>11600</td>\n",
       "      <td>https://github.com/lucidrains/vit-pytorch</td>\n",
       "    </tr>\n",
       "    <tr>\n",
       "      <th>18</th>\n",
       "      <td>davisking</td>\n",
       "      <td>dlib</td>\n",
       "      <td>11400</td>\n",
       "      <td>https://github.com/davisking/dlib</td>\n",
       "    </tr>\n",
       "    <tr>\n",
       "      <th>19</th>\n",
       "      <td>junyanz</td>\n",
       "      <td>CycleGAN</td>\n",
       "      <td>11400</td>\n",
       "      <td>https://github.com/junyanz/CycleGAN</td>\n",
       "    </tr>\n",
       "  </tbody>\n",
       "</table>\n",
       "</div>"
      ],
      "text/plain": [
       "                        username                     repo_name  stars  \\\n",
       "0                         opencv                        opencv  64000   \n",
       "1                    Developer-Y              cs-video-courses  43200   \n",
       "2                         d2l-ai                        d2l-zh  35300   \n",
       "3   CMU-Perceptual-Computing-Lab                      openpose  25000   \n",
       "4                      eugeneyan                    applied-ml  21500   \n",
       "5                       AlexeyAB                       darknet  19800   \n",
       "6                         google                     mediapipe  18800   \n",
       "7                        junyanz  pytorch-CycleGAN-and-pix2pix  18400   \n",
       "8                      spmallick                   learnopencv  17100   \n",
       "9                     ShusenTang          Dive-into-DL-PyTorch  15500   \n",
       "10                        d2l-ai                        d2l-en  15000   \n",
       "11                   huggingface                      datasets  14200   \n",
       "12                     microsoft                        AirSim  13500   \n",
       "13                     bharathgs          Awesome-pytorch-list  13400   \n",
       "14                      virgili0                      Virgilio  13300   \n",
       "15                 davidsandberg                       facenet  12700   \n",
       "16                       pytorch                        vision  12500   \n",
       "17                    lucidrains                   vit-pytorch  11600   \n",
       "18                     davisking                          dlib  11400   \n",
       "19                       junyanz                      CycleGAN  11400   \n",
       "\n",
       "                                             repo_url  \n",
       "0                    https://github.com/opencv/opencv  \n",
       "1     https://github.com/Developer-Y/cs-video-courses  \n",
       "2                    https://github.com/d2l-ai/d2l-zh  \n",
       "3   https://github.com/CMU-Perceptual-Computing-La...  \n",
       "4             https://github.com/eugeneyan/applied-ml  \n",
       "5                 https://github.com/AlexeyAB/darknet  \n",
       "6                 https://github.com/google/mediapipe  \n",
       "7   https://github.com/junyanz/pytorch-CycleGAN-an...  \n",
       "8            https://github.com/spmallick/learnopencv  \n",
       "9   https://github.com/ShusenTang/Dive-into-DL-PyT...  \n",
       "10                   https://github.com/d2l-ai/d2l-en  \n",
       "11            https://github.com/huggingface/datasets  \n",
       "12                https://github.com/microsoft/AirSim  \n",
       "13  https://github.com/bharathgs/Awesome-pytorch-list  \n",
       "14               https://github.com/virgili0/Virgilio  \n",
       "15           https://github.com/davidsandberg/facenet  \n",
       "16                  https://github.com/pytorch/vision  \n",
       "17          https://github.com/lucidrains/vit-pytorch  \n",
       "18                  https://github.com/davisking/dlib  \n",
       "19                https://github.com/junyanz/CycleGAN  "
      ]
     },
     "execution_count": 96,
     "metadata": {},
     "output_type": "execute_result"
    }
   ],
   "source": [
    "topic_df = get_topic_repos(get_topic_page(\"https://github.com/topics/computer-vision\"))\n",
    "topic_df"
   ]
  },
  {
   "cell_type": "markdown",
   "id": "a63c8210",
   "metadata": {},
   "source": [
    "# # Top 20 Repositories for Statistics"
   ]
  },
  {
   "cell_type": "code",
   "execution_count": 97,
   "id": "a886aa3b",
   "metadata": {},
   "outputs": [
    {
     "data": {
      "text/html": [
       "<div>\n",
       "<style scoped>\n",
       "    .dataframe tbody tr th:only-of-type {\n",
       "        vertical-align: middle;\n",
       "    }\n",
       "\n",
       "    .dataframe tbody tr th {\n",
       "        vertical-align: top;\n",
       "    }\n",
       "\n",
       "    .dataframe thead th {\n",
       "        text-align: right;\n",
       "    }\n",
       "</style>\n",
       "<table border=\"1\" class=\"dataframe\">\n",
       "  <thead>\n",
       "    <tr style=\"text-align: right;\">\n",
       "      <th></th>\n",
       "      <th>username</th>\n",
       "      <th>repo_name</th>\n",
       "      <th>stars</th>\n",
       "      <th>repo_url</th>\n",
       "    </tr>\n",
       "  </thead>\n",
       "  <tbody>\n",
       "    <tr>\n",
       "      <th>0</th>\n",
       "      <td>scikit-learn</td>\n",
       "      <td>scikit-learn</td>\n",
       "      <td>51500</td>\n",
       "      <td>https://github.com/scikit-learn/scikit-learn</td>\n",
       "    </tr>\n",
       "    <tr>\n",
       "      <th>1</th>\n",
       "      <td>CamDavidsonPilon</td>\n",
       "      <td>Probabilistic-Programming-and-Bayesian-Methods...</td>\n",
       "      <td>24800</td>\n",
       "      <td>https://github.com/CamDavidsonPilon/Probabilis...</td>\n",
       "    </tr>\n",
       "    <tr>\n",
       "      <th>2</th>\n",
       "      <td>virgili0</td>\n",
       "      <td>Virgilio</td>\n",
       "      <td>13300</td>\n",
       "      <td>https://github.com/virgili0/Virgilio</td>\n",
       "    </tr>\n",
       "    <tr>\n",
       "      <th>3</th>\n",
       "      <td>umami-software</td>\n",
       "      <td>umami</td>\n",
       "      <td>13300</td>\n",
       "      <td>https://github.com/umami-software/umami</td>\n",
       "    </tr>\n",
       "    <tr>\n",
       "      <th>4</th>\n",
       "      <td>qax-os</td>\n",
       "      <td>excelize</td>\n",
       "      <td>13000</td>\n",
       "      <td>https://github.com/qax-os/excelize</td>\n",
       "    </tr>\n",
       "    <tr>\n",
       "      <th>5</th>\n",
       "      <td>plausible</td>\n",
       "      <td>analytics</td>\n",
       "      <td>12600</td>\n",
       "      <td>https://github.com/plausible/analytics</td>\n",
       "    </tr>\n",
       "    <tr>\n",
       "      <th>6</th>\n",
       "      <td>ydataai</td>\n",
       "      <td>pandas-profiling</td>\n",
       "      <td>9600</td>\n",
       "      <td>https://github.com/ydataai/pandas-profiling</td>\n",
       "    </tr>\n",
       "    <tr>\n",
       "      <th>7</th>\n",
       "      <td>statsmodels</td>\n",
       "      <td>statsmodels</td>\n",
       "      <td>7800</td>\n",
       "      <td>https://github.com/statsmodels/statsmodels</td>\n",
       "    </tr>\n",
       "    <tr>\n",
       "      <th>8</th>\n",
       "      <td>XAMPPRocky</td>\n",
       "      <td>tokei</td>\n",
       "      <td>7100</td>\n",
       "      <td>https://github.com/XAMPPRocky/tokei</td>\n",
       "    </tr>\n",
       "    <tr>\n",
       "      <th>9</th>\n",
       "      <td>scikit-learn-contrib</td>\n",
       "      <td>imbalanced-learn</td>\n",
       "      <td>6100</td>\n",
       "      <td>https://github.com/scikit-learn-contrib/imbala...</td>\n",
       "    </tr>\n",
       "    <tr>\n",
       "      <th>10</th>\n",
       "      <td>gonum</td>\n",
       "      <td>gonum</td>\n",
       "      <td>6100</td>\n",
       "      <td>https://github.com/gonum/gonum</td>\n",
       "    </tr>\n",
       "    <tr>\n",
       "      <th>11</th>\n",
       "      <td>IonicaBizau</td>\n",
       "      <td>git-stats</td>\n",
       "      <td>6000</td>\n",
       "      <td>https://github.com/IonicaBizau/git-stats</td>\n",
       "    </tr>\n",
       "    <tr>\n",
       "      <th>12</th>\n",
       "      <td>mahmoud</td>\n",
       "      <td>boltons</td>\n",
       "      <td>5900</td>\n",
       "      <td>https://github.com/mahmoud/boltons</td>\n",
       "    </tr>\n",
       "    <tr>\n",
       "      <th>13</th>\n",
       "      <td>johnkerl</td>\n",
       "      <td>miller</td>\n",
       "      <td>5700</td>\n",
       "      <td>https://github.com/johnkerl/miller</td>\n",
       "    </tr>\n",
       "    <tr>\n",
       "      <th>14</th>\n",
       "      <td>haifengl</td>\n",
       "      <td>smile</td>\n",
       "      <td>5600</td>\n",
       "      <td>https://github.com/haifengl/smile</td>\n",
       "    </tr>\n",
       "    <tr>\n",
       "      <th>15</th>\n",
       "      <td>arzzen</td>\n",
       "      <td>git-quick-stats</td>\n",
       "      <td>5500</td>\n",
       "      <td>https://github.com/arzzen/git-quick-stats</td>\n",
       "    </tr>\n",
       "    <tr>\n",
       "      <th>16</th>\n",
       "      <td>blei-lab</td>\n",
       "      <td>edward</td>\n",
       "      <td>4700</td>\n",
       "      <td>https://github.com/blei-lab/edward</td>\n",
       "    </tr>\n",
       "    <tr>\n",
       "      <th>17</th>\n",
       "      <td>Tautulli</td>\n",
       "      <td>Tautulli</td>\n",
       "      <td>4500</td>\n",
       "      <td>https://github.com/Tautulli/Tautulli</td>\n",
       "    </tr>\n",
       "    <tr>\n",
       "      <th>18</th>\n",
       "      <td>accord-net</td>\n",
       "      <td>framework</td>\n",
       "      <td>4300</td>\n",
       "      <td>https://github.com/accord-net/framework</td>\n",
       "    </tr>\n",
       "    <tr>\n",
       "      <th>19</th>\n",
       "      <td>boyter</td>\n",
       "      <td>scc</td>\n",
       "      <td>3800</td>\n",
       "      <td>https://github.com/boyter/scc</td>\n",
       "    </tr>\n",
       "  </tbody>\n",
       "</table>\n",
       "</div>"
      ],
      "text/plain": [
       "                username                                          repo_name  \\\n",
       "0           scikit-learn                                       scikit-learn   \n",
       "1       CamDavidsonPilon  Probabilistic-Programming-and-Bayesian-Methods...   \n",
       "2               virgili0                                           Virgilio   \n",
       "3         umami-software                                              umami   \n",
       "4                 qax-os                                           excelize   \n",
       "5              plausible                                          analytics   \n",
       "6                ydataai                                   pandas-profiling   \n",
       "7            statsmodels                                        statsmodels   \n",
       "8             XAMPPRocky                                              tokei   \n",
       "9   scikit-learn-contrib                                   imbalanced-learn   \n",
       "10                 gonum                                              gonum   \n",
       "11           IonicaBizau                                          git-stats   \n",
       "12               mahmoud                                            boltons   \n",
       "13              johnkerl                                             miller   \n",
       "14              haifengl                                              smile   \n",
       "15                arzzen                                    git-quick-stats   \n",
       "16              blei-lab                                             edward   \n",
       "17              Tautulli                                           Tautulli   \n",
       "18            accord-net                                          framework   \n",
       "19                boyter                                                scc   \n",
       "\n",
       "    stars                                           repo_url  \n",
       "0   51500       https://github.com/scikit-learn/scikit-learn  \n",
       "1   24800  https://github.com/CamDavidsonPilon/Probabilis...  \n",
       "2   13300               https://github.com/virgili0/Virgilio  \n",
       "3   13300            https://github.com/umami-software/umami  \n",
       "4   13000                 https://github.com/qax-os/excelize  \n",
       "5   12600             https://github.com/plausible/analytics  \n",
       "6    9600        https://github.com/ydataai/pandas-profiling  \n",
       "7    7800         https://github.com/statsmodels/statsmodels  \n",
       "8    7100                https://github.com/XAMPPRocky/tokei  \n",
       "9    6100  https://github.com/scikit-learn-contrib/imbala...  \n",
       "10   6100                     https://github.com/gonum/gonum  \n",
       "11   6000           https://github.com/IonicaBizau/git-stats  \n",
       "12   5900                 https://github.com/mahmoud/boltons  \n",
       "13   5700                 https://github.com/johnkerl/miller  \n",
       "14   5600                  https://github.com/haifengl/smile  \n",
       "15   5500          https://github.com/arzzen/git-quick-stats  \n",
       "16   4700                 https://github.com/blei-lab/edward  \n",
       "17   4500               https://github.com/Tautulli/Tautulli  \n",
       "18   4300            https://github.com/accord-net/framework  \n",
       "19   3800                      https://github.com/boyter/scc  "
      ]
     },
     "execution_count": 97,
     "metadata": {},
     "output_type": "execute_result"
    }
   ],
   "source": [
    "topic_df = get_topic_repos(get_topic_page(\"https://github.com/topics/statistics\"))\n",
    "topic_df"
   ]
  },
  {
   "cell_type": "code",
   "execution_count": null,
   "id": "b1b8015b",
   "metadata": {},
   "outputs": [],
   "source": []
  },
  {
   "cell_type": "markdown",
   "id": "379b9820",
   "metadata": {},
   "source": [
    "# Top 20 repos for data-science"
   ]
  },
  {
   "cell_type": "code",
   "execution_count": 94,
   "id": "ce8fcd7c",
   "metadata": {},
   "outputs": [
    {
     "data": {
      "text/html": [
       "<div>\n",
       "<style scoped>\n",
       "    .dataframe tbody tr th:only-of-type {\n",
       "        vertical-align: middle;\n",
       "    }\n",
       "\n",
       "    .dataframe tbody tr th {\n",
       "        vertical-align: top;\n",
       "    }\n",
       "\n",
       "    .dataframe thead th {\n",
       "        text-align: right;\n",
       "    }\n",
       "</style>\n",
       "<table border=\"1\" class=\"dataframe\">\n",
       "  <thead>\n",
       "    <tr style=\"text-align: right;\">\n",
       "      <th></th>\n",
       "      <th>username</th>\n",
       "      <th>repo_name</th>\n",
       "      <th>stars</th>\n",
       "      <th>repo_url</th>\n",
       "    </tr>\n",
       "  </thead>\n",
       "  <tbody>\n",
       "    <tr>\n",
       "      <th>0</th>\n",
       "      <td>keras-team</td>\n",
       "      <td>keras</td>\n",
       "      <td>56300</td>\n",
       "      <td>https://github.com/keras-team/keras</td>\n",
       "    </tr>\n",
       "    <tr>\n",
       "      <th>1</th>\n",
       "      <td>scikit-learn</td>\n",
       "      <td>scikit-learn</td>\n",
       "      <td>51500</td>\n",
       "      <td>https://github.com/scikit-learn/scikit-learn</td>\n",
       "    </tr>\n",
       "    <tr>\n",
       "      <th>2</th>\n",
       "      <td>apache</td>\n",
       "      <td>superset</td>\n",
       "      <td>48300</td>\n",
       "      <td>https://github.com/apache/superset</td>\n",
       "    </tr>\n",
       "    <tr>\n",
       "      <th>3</th>\n",
       "      <td>microsoft</td>\n",
       "      <td>ML-For-Beginners</td>\n",
       "      <td>42300</td>\n",
       "      <td>https://github.com/microsoft/ML-For-Beginners</td>\n",
       "    </tr>\n",
       "    <tr>\n",
       "      <th>4</th>\n",
       "      <td>pandas-dev</td>\n",
       "      <td>pandas</td>\n",
       "      <td>35300</td>\n",
       "      <td>https://github.com/pandas-dev/pandas</td>\n",
       "    </tr>\n",
       "    <tr>\n",
       "      <th>5</th>\n",
       "      <td>GokuMohandas</td>\n",
       "      <td>Made-With-ML</td>\n",
       "      <td>31000</td>\n",
       "      <td>https://github.com/GokuMohandas/Made-With-ML</td>\n",
       "    </tr>\n",
       "    <tr>\n",
       "      <th>6</th>\n",
       "      <td>CamDavidsonPilon</td>\n",
       "      <td>Probabilistic-Programming-and-Bayesian-Methods...</td>\n",
       "      <td>24800</td>\n",
       "      <td>https://github.com/CamDavidsonPilon/Probabilis...</td>\n",
       "    </tr>\n",
       "    <tr>\n",
       "      <th>7</th>\n",
       "      <td>explosion</td>\n",
       "      <td>spaCy</td>\n",
       "      <td>24300</td>\n",
       "      <td>https://github.com/explosion/spaCy</td>\n",
       "    </tr>\n",
       "    <tr>\n",
       "      <th>8</th>\n",
       "      <td>donnemartin</td>\n",
       "      <td>data-science-ipython-notebooks</td>\n",
       "      <td>23800</td>\n",
       "      <td>https://github.com/donnemartin/data-science-ip...</td>\n",
       "    </tr>\n",
       "    <tr>\n",
       "      <th>9</th>\n",
       "      <td>ray-project</td>\n",
       "      <td>ray</td>\n",
       "      <td>22100</td>\n",
       "      <td>https://github.com/ray-project/ray</td>\n",
       "    </tr>\n",
       "    <tr>\n",
       "      <th>10</th>\n",
       "      <td>eriklindernoren</td>\n",
       "      <td>ML-From-Scratch</td>\n",
       "      <td>21500</td>\n",
       "      <td>https://github.com/eriklindernoren/ML-From-Scr...</td>\n",
       "    </tr>\n",
       "    <tr>\n",
       "      <th>11</th>\n",
       "      <td>AMAI-GmbH</td>\n",
       "      <td>AI-Expert-Roadmap</td>\n",
       "      <td>21500</td>\n",
       "      <td>https://github.com/AMAI-GmbH/AI-Expert-Roadmap</td>\n",
       "    </tr>\n",
       "    <tr>\n",
       "      <th>12</th>\n",
       "      <td>eugeneyan</td>\n",
       "      <td>applied-ml</td>\n",
       "      <td>21500</td>\n",
       "      <td>https://github.com/eugeneyan/applied-ml</td>\n",
       "    </tr>\n",
       "    <tr>\n",
       "      <th>13</th>\n",
       "      <td>streamlit</td>\n",
       "      <td>streamlit</td>\n",
       "      <td>20800</td>\n",
       "      <td>https://github.com/streamlit/streamlit</td>\n",
       "    </tr>\n",
       "    <tr>\n",
       "      <th>14</th>\n",
       "      <td>Lightning-AI</td>\n",
       "      <td>lightning</td>\n",
       "      <td>20100</td>\n",
       "      <td>https://github.com/Lightning-AI/lightning</td>\n",
       "    </tr>\n",
       "    <tr>\n",
       "      <th>15</th>\n",
       "      <td>academic</td>\n",
       "      <td>awesome-datascience</td>\n",
       "      <td>19600</td>\n",
       "      <td>https://github.com/academic/awesome-datascience</td>\n",
       "    </tr>\n",
       "    <tr>\n",
       "      <th>16</th>\n",
       "      <td>plotly</td>\n",
       "      <td>dash</td>\n",
       "      <td>17400</td>\n",
       "      <td>https://github.com/plotly/dash</td>\n",
       "    </tr>\n",
       "    <tr>\n",
       "      <th>17</th>\n",
       "      <td>matplotlib</td>\n",
       "      <td>matplotlib</td>\n",
       "      <td>16200</td>\n",
       "      <td>https://github.com/matplotlib/matplotlib</td>\n",
       "    </tr>\n",
       "    <tr>\n",
       "      <th>18</th>\n",
       "      <td>microsoft</td>\n",
       "      <td>Data-Science-For-Beginners</td>\n",
       "      <td>16100</td>\n",
       "      <td>https://github.com/microsoft/Data-Science-For-...</td>\n",
       "    </tr>\n",
       "    <tr>\n",
       "      <th>19</th>\n",
       "      <td>fastai</td>\n",
       "      <td>fastbook</td>\n",
       "      <td>16100</td>\n",
       "      <td>https://github.com/fastai/fastbook</td>\n",
       "    </tr>\n",
       "  </tbody>\n",
       "</table>\n",
       "</div>"
      ],
      "text/plain": [
       "            username                                          repo_name  \\\n",
       "0         keras-team                                              keras   \n",
       "1       scikit-learn                                       scikit-learn   \n",
       "2             apache                                           superset   \n",
       "3          microsoft                                   ML-For-Beginners   \n",
       "4         pandas-dev                                             pandas   \n",
       "5       GokuMohandas                                       Made-With-ML   \n",
       "6   CamDavidsonPilon  Probabilistic-Programming-and-Bayesian-Methods...   \n",
       "7          explosion                                              spaCy   \n",
       "8        donnemartin                     data-science-ipython-notebooks   \n",
       "9        ray-project                                                ray   \n",
       "10   eriklindernoren                                    ML-From-Scratch   \n",
       "11         AMAI-GmbH                                  AI-Expert-Roadmap   \n",
       "12         eugeneyan                                         applied-ml   \n",
       "13         streamlit                                          streamlit   \n",
       "14      Lightning-AI                                          lightning   \n",
       "15          academic                                awesome-datascience   \n",
       "16            plotly                                               dash   \n",
       "17        matplotlib                                         matplotlib   \n",
       "18         microsoft                         Data-Science-For-Beginners   \n",
       "19            fastai                                           fastbook   \n",
       "\n",
       "    stars                                           repo_url  \n",
       "0   56300                https://github.com/keras-team/keras  \n",
       "1   51500       https://github.com/scikit-learn/scikit-learn  \n",
       "2   48300                 https://github.com/apache/superset  \n",
       "3   42300      https://github.com/microsoft/ML-For-Beginners  \n",
       "4   35300               https://github.com/pandas-dev/pandas  \n",
       "5   31000       https://github.com/GokuMohandas/Made-With-ML  \n",
       "6   24800  https://github.com/CamDavidsonPilon/Probabilis...  \n",
       "7   24300                 https://github.com/explosion/spaCy  \n",
       "8   23800  https://github.com/donnemartin/data-science-ip...  \n",
       "9   22100                 https://github.com/ray-project/ray  \n",
       "10  21500  https://github.com/eriklindernoren/ML-From-Scr...  \n",
       "11  21500     https://github.com/AMAI-GmbH/AI-Expert-Roadmap  \n",
       "12  21500            https://github.com/eugeneyan/applied-ml  \n",
       "13  20800             https://github.com/streamlit/streamlit  \n",
       "14  20100          https://github.com/Lightning-AI/lightning  \n",
       "15  19600    https://github.com/academic/awesome-datascience  \n",
       "16  17400                     https://github.com/plotly/dash  \n",
       "17  16200           https://github.com/matplotlib/matplotlib  \n",
       "18  16100  https://github.com/microsoft/Data-Science-For-...  \n",
       "19  16100                 https://github.com/fastai/fastbook  "
      ]
     },
     "execution_count": 94,
     "metadata": {},
     "output_type": "execute_result"
    }
   ],
   "source": [
    "topic_df = get_topic_repos(get_topic_page(\"https://github.com/topics/data-science\"))\n",
    "topic_df"
   ]
  },
  {
   "cell_type": "code",
   "execution_count": null,
   "id": "e08223ec",
   "metadata": {},
   "outputs": [],
   "source": []
  }
 ],
 "metadata": {
  "kernelspec": {
   "display_name": "Python 3 (ipykernel)",
   "language": "python",
   "name": "python3"
  },
  "language_info": {
   "codemirror_mode": {
    "name": "ipython",
    "version": 3
   },
   "file_extension": ".py",
   "mimetype": "text/x-python",
   "name": "python",
   "nbconvert_exporter": "python",
   "pygments_lexer": "ipython3",
   "version": "3.9.12"
  }
 },
 "nbformat": 4,
 "nbformat_minor": 5
}
